{
 "cells": [
  {
   "cell_type": "raw",
   "metadata": {},
   "source": [
    "KNN\n",
    "给定一个训练集，对新的输入，在训练集中找到与该实例最邻近的K个实例， 这K个实例的多数属于某个类，就把该输入实例分类到这个类中。"
   ]
  },
  {
   "cell_type": "raw",
   "metadata": {},
   "source": [
    "鲁棒性 Robust 健壮，系统在一定参数变动下维持性能的能力"
   ]
  },
  {
   "cell_type": "raw",
   "metadata": {},
   "source": [
    "L1距离(Manhattan) 像素间绝对值的总和，受选择的坐标系影响\n",
    "L2距离(Euclidean) 欧氏距离，平方和的平方根"
   ]
  },
  {
   "cell_type": "raw",
   "metadata": {},
   "source": [
    "超参数 学习开始前设置的参数值（学习率等）"
   ]
  },
  {
   "cell_type": "raw",
   "metadata": {},
   "source": [
    "轮流当设置超参数\n",
    "1. k=1时，在训练集上表现好，在未知数据上表现比更大的k要差\n",
    "\n",
    "2. 数据分为训练集和测试集，只能得到在这组测试集上更好的参数，不知道在全新数据上的表现\n",
    "\n",
    "3. 更好的做法是，分成3组，大部分数据为训练集，一个验证集，一个测试集，\n",
    "一般步骤为，在训练集上用不同超参训练，在验证集上评估，选出最好的分类器在测试集上运行\n",
    "\n",
    "4. 交叉验证， 保留最后的测试集，将训练数据分成多份，轮流当验证集"
   ]
  },
  {
   "cell_type": "raw",
   "metadata": {},
   "source": [
    "问题\n",
    "用于图像：\n",
    "测试时运算时间很长\n",
    "L1和L2这样的衡量标准用于图像不太合适\n",
    "curse of dimensionality KNN类似于用训练数据切分空间，就要求训练数据密集分布，即待测样本相似性高，在不同维度下需要指数倍的增加训练数据"
   ]
  },
  {
   "cell_type": "raw",
   "metadata": {},
   "source": [
    "总之在图像中不怎么使用"
   ]
  }
 ],
 "metadata": {
  "kernelspec": {
   "display_name": "Python 3",
   "language": "python",
   "name": "python3"
  },
  "language_info": {
   "codemirror_mode": {
    "name": "ipython",
    "version": 3
   },
   "file_extension": ".py",
   "mimetype": "text/x-python",
   "name": "python",
   "nbconvert_exporter": "python",
   "pygments_lexer": "ipython3",
   "version": "3.7.3"
  }
 },
 "nbformat": 4,
 "nbformat_minor": 2
}
