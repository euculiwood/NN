{
 "cells": [
  {
   "cell_type": "raw",
   "metadata": {},
   "source": [
    "linear classification"
   ]
  },
  {
   "cell_type": "raw",
   "metadata": {},
   "source": [
    "深度学习应用中最基本的构建块之一"
   ]
  },
  {
   "cell_type": "raw",
   "metadata": {},
   "source": [
    "CIFAR-10，该数据集共有60000张彩色图像，图像是32*32，分为10个类，每类6000张图。"
   ]
  },
  {
   "cell_type": "raw",
   "metadata": {},
   "source": [
    "用函数组合权重和数据，f（x，W）\n",
    "每张图像看做高维空间的一个点，线性分类器在决策边界上画一个线性分类面。 "
   ]
  },
  {
   "cell_type": "raw",
   "metadata": {},
   "source": [
    "损失函数"
   ]
  },
  {
   "cell_type": "raw",
   "metadata": {},
   "source": []
  }
 ],
 "metadata": {
  "kernelspec": {
   "display_name": "Python 3",
   "language": "python",
   "name": "python3"
  },
  "language_info": {
   "codemirror_mode": {
    "name": "ipython",
    "version": 3
   },
   "file_extension": ".py",
   "mimetype": "text/x-python",
   "name": "python",
   "nbconvert_exporter": "python",
   "pygments_lexer": "ipython3",
   "version": "3.7.3"
  }
 },
 "nbformat": 4,
 "nbformat_minor": 2
}
